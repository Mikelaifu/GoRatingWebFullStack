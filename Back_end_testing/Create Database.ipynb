{
 "cells": [
  {
   "cell_type": "code",
   "execution_count": null,
   "metadata": {
    "collapsed": true
   },
   "outputs": [],
   "source": [
    "import urllib3\n",
    "from bs4 import BeautifulSoup\n",
    "import pymongo \n",
    "from pprint import pprint \n",
    "import pandas as pd\n",
    "import requests\n",
    "from splinter import Browser\n",
    "import json\n",
    "import tweepy\n",
    "import pymongo\n",
    "import os\n",
    "import time\n",
    "from pprint import pprint\n",
    "from selenium import webdriver\n",
    "\n",
    "\n",
    "\n"
   ]
  },
  {
   "cell_type": "code",
   "execution_count": null,
   "metadata": {
    "collapsed": true
   },
   "outputs": [],
   "source": [
    "def TargetPlayerInfo(rank):\n",
    "        rank = rank + 1\n",
    "        \n",
    "        xpath1 = f'/html/body/table[2]/tbody/tr[{rank}]/td[2]/a'\n",
    "        xpath2 = f'/html/body/table[2]/tbody/tr[{rank}]/td[3]/span'\n",
    "        xpath3 = f'/html/body/table[2]/tbody/tr[{rank}]/td[4]/img'\n",
    "        xpath4 = f'/html/body/table[2]/tbody/tr[{rank}]/td[5]'\n",
    "        \n",
    "        browser = Browser('chrome', headless=False)\n",
    "        url = 'https://www.goratings.org/en/'\n",
    "        browser.visit(url)\n",
    "        preserve_link = browser.find_by_xpath(xpath1) ## postion as ranking + 1\n",
    "        \n",
    "        player_gender = browser.find_by_xpath(xpath2)\n",
    "        if player_gender.text == '♂':\n",
    "            gender = \"Male\"\n",
    "        else:\n",
    "            gender = \"Female\"\n",
    "        \n",
    "        player_natinality = browser.find_by_xpath(xpath3)\n",
    "        \n",
    "        players_ranking = browser.find_by_xpath(xpath4)\n",
    "        \n",
    "        firstLayer = {\n",
    "            'targeted link' : preserve_link['href'],\n",
    "            'targeted name' : preserve_link.text,\n",
    "            \"targeted gender\" : gender,\n",
    "            \"Targeted Natinality\" :  player_natinality['alt'], \n",
    "            \"Targeted Rank\" : players_ranking.text\n",
    "            \n",
    "        }\n",
    "        time.sleep(3)\n",
    "        \n",
    "        browser.quit()\n",
    "        time.sleep(3)\n",
    "        # start another link scraping\n",
    "        driver = Browser('chrome', headless=False)\n",
    "        url1 = firstLayer['targeted link'] \n",
    "        driver.visit(url1)\n",
    "        html = driver.html\n",
    "#         soup = BeautifulSoup(html, \"html.parser\")\n",
    "        table = driver.find_by_xpath('/html/body/table[1]/tbody')\n",
    "        info = []\n",
    "        for i in table.find_by_tag(\"td\"):\n",
    "            info.append(i.text)\n",
    "\n",
    "\n",
    "        \n",
    "        firstLayer[\"Wins\"] = info[0]\n",
    "        firstLayer[\"Losses\"] = info[1]\n",
    "        firstLayer[\"Total\"] = info[2]\n",
    "        firstLayer[\"Birthday\"] = info[-1]\n",
    "        \n",
    "        return firstLayer\n",
    "    \n",
    "\n"
   ]
  },
  {
   "cell_type": "code",
   "execution_count": null,
   "metadata": {
    "collapsed": true
   },
   "outputs": [],
   "source": [
    "# game record and opponent info\n",
    "def GamingRecordDetails(rank):\n",
    "    \n",
    "        rank = rank + 1\n",
    "        \n",
    "        xpath1 = f'/html/body/table[2]/tbody/tr[{rank}]/td[2]/a'\n",
    "        browser = Browser('chrome', headless=False)\n",
    "        url = 'https://www.goratings.org/en/'\n",
    "        browser.visit(url)\n",
    "        preserve_link = browser.find_by_xpath(xpath1) ## postion as ranking + 1\n",
    "        \n",
    "        SecondLayer = {\n",
    "            'targeted link' : preserve_link['href'],\n",
    "            'targeted gamer' : preserve_link.text,\n",
    "        }\n",
    "        time.sleep(3)\n",
    "        \n",
    "        browser.quit()\n",
    "       \n",
    "        time.sleep(3)\n",
    "        # start another link scraping\n",
    "        driver = Browser('chrome', headless=False)\n",
    "        url1 = SecondLayer['targeted link'] \n",
    "        driver.visit(url1)\n",
    "        html = driver.html\n",
    "        table = driver.find_by_xpath('/html/body/table[2]/tbody')\n",
    "\n",
    "\n",
    "        info = []\n",
    "\n",
    "        #table.find_by_tag('td')\n",
    "        for tr in table.find_by_tag('tr'):\n",
    "            info.append(tr.text.split(\" \"))\n",
    "            \n",
    "        data = pd.DataFrame(info)\n",
    "\n",
    "        data = data.drop([8, 9, 10], axis=1).drop([0])\n",
    "        data['Opponant Name'] = data[[4, 5]].apply(lambda x: ' '.join(x), axis=1)\n",
    "        data = data.drop([4,5], axis=1)\n",
    "        data\n",
    "        data = data.rename(columns = {0: \"Date\", 1: \"Gamer Rating\", 2: \"Color\", 3: \"Result\", 'Opponant Name': \"Opponent Name\",  6: \"Opponent Ranking\",\n",
    "                             7: \"Opponent Gender\"})\n",
    "\n",
    "        df = data[[\"Date\", \"Gamer Rating\",\"Color\", \"Result\", \"Opponent Name\",  \"Opponent Ranking\",\"Opponent Gender\"]]\n",
    "\n",
    "        df.head()\n",
    "        final_dict = {\n",
    "\n",
    "            'Date' : list(df['Date']),\n",
    "            'Gamer Rating': list(df['Gamer Rating']),\n",
    "            'Color': list(df['Color']),\n",
    "            'Result': list(df['Result']),\n",
    "            'Opponent Name': list(df['Opponent Name']),\n",
    "            'Opponent Ranking': list(df['Opponent Ranking']),\n",
    "            'Opponent Gender':  list(df['Opponent Gender'])\n",
    "\n",
    "              }\n",
    "        \n",
    "        driver.quit()\n",
    "\n",
    "        return final_dict\n",
    "\n",
    "\n",
    "        "
   ]
  },
  {
   "cell_type": "code",
   "execution_count": null,
   "metadata": {
    "collapsed": true
   },
   "outputs": [],
   "source": []
  },
  {
   "cell_type": "code",
   "execution_count": null,
   "metadata": {
    "collapsed": true
   },
   "outputs": [],
   "source": []
  },
  {
   "cell_type": "code",
   "execution_count": null,
   "metadata": {
    "collapsed": true
   },
   "outputs": [],
   "source": []
  }
 ],
 "metadata": {
  "kernelspec": {
   "display_name": "Python [conda env:anaconda3]",
   "language": "python",
   "name": "conda-env-anaconda3-py"
  },
  "language_info": {
   "codemirror_mode": {
    "name": "ipython",
    "version": 3
   },
   "file_extension": ".py",
   "mimetype": "text/x-python",
   "name": "python",
   "nbconvert_exporter": "python",
   "pygments_lexer": "ipython3",
   "version": "3.6.4"
  }
 },
 "nbformat": 4,
 "nbformat_minor": 2
}
